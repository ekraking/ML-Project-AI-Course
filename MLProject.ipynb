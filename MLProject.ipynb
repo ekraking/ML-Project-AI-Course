{
  "nbformat": 4,
  "nbformat_minor": 0,
  "metadata": {
    "colab": {
      "provenance": [],
      "authorship_tag": "ABX9TyNJNOd2+uSnlC1T3CCtufIQ",
      "include_colab_link": true
    },
    "kernelspec": {
      "name": "python3",
      "display_name": "Python 3"
    },
    "language_info": {
      "name": "python"
    }
  },
  "cells": [
    {
      "cell_type": "markdown",
      "metadata": {
        "id": "view-in-github",
        "colab_type": "text"
      },
      "source": [
        "<a href=\"https://colab.research.google.com/github/ekraking/NYC-Airbnb-Analysis/blob/main/MLProject.ipynb\" target=\"_parent\"><img src=\"https://colab.research.google.com/assets/colab-badge.svg\" alt=\"Open In Colab\"/></a>"
      ]
    },
    {
      "cell_type": "code",
      "execution_count": 1,
      "metadata": {
        "id": "6egQkglBS1jm"
      },
      "outputs": [],
      "source": [
        "import pandas as pd\n",
        "import numpy as np\n",
        "import matplotlib.pyplot as plt\n",
        "import seaborn as sns\n",
        "from sklearn.model_selection import train_test_split\n",
        "from sklearn.preprocessing import StandardScaler, OneHotEncoder\n",
        "from sklearn.compose import ColumnTransformer\n",
        "from sklearn.pipeline import Pipeline\n",
        "from sklearn.linear_model import LogisticRegression\n",
        "from sklearn.neighbors import KNeighborsClassifier\n",
        "from sklearn.naive_bayes import GaussianNB\n",
        "from sklearn.cluster import KMeans\n",
        "from sklearn.metrics import accuracy_score, classification_report, confusion_matrix"
      ]
    },
    {
      "cell_type": "code",
      "source": [
        "# تعيين شكل الرسوم البيانية ليكون أكثر وضوحًا\n",
        "plt.style.use('seaborn-v0_8-whitegrid')\n",
        "sns.set_context('talk')"
      ],
      "metadata": {
        "id": "PCmvz4LkThBH"
      },
      "execution_count": 2,
      "outputs": []
    },
    {
      "cell_type": "code",
      "source": [
        "# ---------------------------------------------------------------------------\n",
        "# الخطوة الأولى: تحميل واستكشاف البيانات\n",
        "# ---------------------------------------------------------------------------\n",
        "print(\"--- 1. تحميل واستكشاف البيانات ---\")\n",
        "# تحميل ملف البيانات\n",
        "df = pd.read_csv('data1.csv')\n",
        "\n",
        "# عرض أول 5 صفوف من البيانات لفهم هيكلها\n",
        "print(\"أول 5 صفوف من البيانات:\")\n",
        "print(df.head())\n",
        "\n",
        "# عرض معلومات عامة عن البيانات مثل أنواع الأعمدة والقيم غير الفارغة\n",
        "print(\"\\nمعلومات حول البيانات:\")\n",
        "df.info()\n"
      ],
      "metadata": {
        "colab": {
          "base_uri": "https://localhost:8080/"
        },
        "id": "PQI1nvN3TiKs",
        "outputId": "0cec19b4-1e2f-479c-8f82-f3f93f18ccb0"
      },
      "execution_count": 3,
      "outputs": [
        {
          "output_type": "stream",
          "name": "stdout",
          "text": [
            "--- 1. تحميل واستكشاف البيانات ---\n",
            "أول 5 صفوف من البيانات:\n",
            "     id                                              name  host_id  \\\n",
            "0  2539                Clean & quiet apt home by the park     2787   \n",
            "1  2595                             Skylit Midtown Castle     2845   \n",
            "2  3647               THE VILLAGE OF HARLEM....NEW YORK !     4632   \n",
            "3  3831                   Cozy Entire Floor of Brownstone     4869   \n",
            "4  5022  Entire Apt: Spacious Studio/Loft by central park     7192   \n",
            "\n",
            "     host_name neighbourhood_group neighbourhood  latitude  longitude  \\\n",
            "0         John            Brooklyn    Kensington  40.64749  -73.97237   \n",
            "1     Jennifer           Manhattan       Midtown  40.75362  -73.98377   \n",
            "2    Elisabeth           Manhattan        Harlem  40.80902  -73.94190   \n",
            "3  LisaRoxanne            Brooklyn  Clinton Hill  40.68514  -73.95976   \n",
            "4        Laura           Manhattan   East Harlem  40.79851  -73.94399   \n",
            "\n",
            "         room_type  price  minimum_nights  number_of_reviews last_review  \\\n",
            "0     Private room    149               1                  9  2018-10-19   \n",
            "1  Entire home/apt    225               1                 45  2019-05-21   \n",
            "2     Private room    150               3                  0         NaN   \n",
            "3  Entire home/apt     89               1                270  2019-07-05   \n",
            "4  Entire home/apt     80              10                  9  2018-11-19   \n",
            "\n",
            "   reviews_per_month  calculated_host_listings_count  availability_365  \n",
            "0               0.21                               6               365  \n",
            "1               0.38                               2               355  \n",
            "2                NaN                               1               365  \n",
            "3               4.64                               1               194  \n",
            "4               0.10                               1                 0  \n",
            "\n",
            "معلومات حول البيانات:\n",
            "<class 'pandas.core.frame.DataFrame'>\n",
            "RangeIndex: 48895 entries, 0 to 48894\n",
            "Data columns (total 16 columns):\n",
            " #   Column                          Non-Null Count  Dtype  \n",
            "---  ------                          --------------  -----  \n",
            " 0   id                              48895 non-null  int64  \n",
            " 1   name                            48879 non-null  object \n",
            " 2   host_id                         48895 non-null  int64  \n",
            " 3   host_name                       48874 non-null  object \n",
            " 4   neighbourhood_group             48895 non-null  object \n",
            " 5   neighbourhood                   48895 non-null  object \n",
            " 6   latitude                        48895 non-null  float64\n",
            " 7   longitude                       48895 non-null  float64\n",
            " 8   room_type                       48895 non-null  object \n",
            " 9   price                           48895 non-null  int64  \n",
            " 10  minimum_nights                  48895 non-null  int64  \n",
            " 11  number_of_reviews               48895 non-null  int64  \n",
            " 12  last_review                     38843 non-null  object \n",
            " 13  reviews_per_month               38843 non-null  float64\n",
            " 14  calculated_host_listings_count  48895 non-null  int64  \n",
            " 15  availability_365                48895 non-null  int64  \n",
            "dtypes: float64(3), int64(7), object(6)\n",
            "memory usage: 6.0+ MB\n"
          ]
        }
      ]
    },
    {
      "cell_type": "code",
      "source": [
        "# ---------------------------------------------------------------------------\n",
        "# **** قسم جديد: تحليل البيانات الاستكشافي مع التصور البياني (EDA) ****\n",
        "# ---------------------------------------------------------------------------\n",
        "print(\"\\n--- مرحلة تحليل البيانات الاستكشافي (EDA) ---\")\n",
        "\n",
        "# 1. توزيع الأسعار\n",
        "# سنقوم بفلترة الأسعار الأعلى من 500 دولار لجعل الرسم البياني أوضح\n",
        "plt.figure(figsize=(12, 7))\n",
        "sns.histplot(df[df['price'] < 500]['price'], bins=50, kde=True)\n",
        "plt.title('Rental Price Distribution (Less than $500)')\n",
        "plt.xlabel('Price ($)')\n",
        "plt.ylabel('Number')\n",
        "# plt.show()\n",
        "plt.savefig('price_distribution.png')\n",
        "plt.close()\n",
        "print(\"Price distribution chart saved: price_distribution.png\")\n",
        "\n",
        "# 2. عدد الإعلانات حسب المنطقة\n",
        "plt.figure(figsize=(12, 7))\n",
        "sns.countplot(data=df, y='neighbourhood_group', order=df['neighbourhood_group'].value_counts().index, palette='viridis')\n",
        "plt.title('Number of Airbnb listings in each area')\n",
        "plt.xlabel('Number of ads')\n",
        "plt.ylabel('The area')\n",
        "# plt.show()\n",
        "plt.savefig('listings_per_neighbourhood_group.png')\n",
        "plt.close()\n",
        "print(\"Price distribution chart saved: listings_per_neighbourhood_group.png\")\n",
        "\n",
        "# 3. توزيع أنواع الغرف\n",
        "plt.figure(figsize=(12, 7))\n",
        "sns.countplot(data=df, x='room_type', order=df['room_type'].value_counts().index, palette='plasma')\n",
        "plt.title('Room Type Distribution')\n",
        "plt.xlabel('Room type')\n",
        "plt.ylabel('Number')\n",
        "# plt.show()\n",
        "plt.savefig('room_type_distribution.png')\n",
        "plt.close()\n",
        "print(\"Price distribution chart saved: room_type_distribution.png\")\n",
        "\n",
        "# 4. مقارنة الأسعار حسب المنطقة\n",
        "plt.figure(figsize=(12, 7))\n",
        "sns.boxplot(data=df[df['price'] < 500], x='neighbourhood_group', y='price', palette='magma')\n",
        "plt.title('Compare price distribution by region (for prices under $500)')\n",
        "plt.xlabel('The area')\n",
        "plt.ylabel('Price ($)')\n",
        "# plt.show()\n",
        "plt.savefig('price_vs_neighbourhood_group.png')\n",
        "plt.close()\n",
        "print(\"Price distribution chart saved: price_vs_neighbourhood_group.png\")"
      ],
      "metadata": {
        "colab": {
          "base_uri": "https://localhost:8080/"
        },
        "id": "4DK33d0JVAll",
        "outputId": "bfb14c2d-2bad-43a2-f3c2-cb7358890b9e"
      },
      "execution_count": 4,
      "outputs": [
        {
          "output_type": "stream",
          "name": "stdout",
          "text": [
            "\n",
            "--- مرحلة تحليل البيانات الاستكشافي (EDA) ---\n",
            "Price distribution chart saved: price_distribution.png\n"
          ]
        },
        {
          "output_type": "stream",
          "name": "stderr",
          "text": [
            "/tmp/ipython-input-3008950143.py:20: FutureWarning: \n",
            "\n",
            "Passing `palette` without assigning `hue` is deprecated and will be removed in v0.14.0. Assign the `y` variable to `hue` and set `legend=False` for the same effect.\n",
            "\n",
            "  sns.countplot(data=df, y='neighbourhood_group', order=df['neighbourhood_group'].value_counts().index, palette='viridis')\n"
          ]
        },
        {
          "output_type": "stream",
          "name": "stdout",
          "text": [
            "Price distribution chart saved: listings_per_neighbourhood_group.png\n"
          ]
        },
        {
          "output_type": "stream",
          "name": "stderr",
          "text": [
            "/tmp/ipython-input-3008950143.py:31: FutureWarning: \n",
            "\n",
            "Passing `palette` without assigning `hue` is deprecated and will be removed in v0.14.0. Assign the `x` variable to `hue` and set `legend=False` for the same effect.\n",
            "\n",
            "  sns.countplot(data=df, x='room_type', order=df['room_type'].value_counts().index, palette='plasma')\n"
          ]
        },
        {
          "output_type": "stream",
          "name": "stdout",
          "text": [
            "Price distribution chart saved: room_type_distribution.png\n"
          ]
        },
        {
          "output_type": "stream",
          "name": "stderr",
          "text": [
            "/tmp/ipython-input-3008950143.py:42: FutureWarning: \n",
            "\n",
            "Passing `palette` without assigning `hue` is deprecated and will be removed in v0.14.0. Assign the `x` variable to `hue` and set `legend=False` for the same effect.\n",
            "\n",
            "  sns.boxplot(data=df[df['price'] < 500], x='neighbourhood_group', y='price', palette='magma')\n"
          ]
        },
        {
          "output_type": "stream",
          "name": "stdout",
          "text": [
            "Price distribution chart saved: price_vs_neighbourhood_group.png\n"
          ]
        }
      ]
    },
    {
      "cell_type": "code",
      "source": [
        "# ---------------------------------------------------------------------------\n",
        "# الخطوة الثانية: تجهيز البيانات لمرحلة التعلم الإشرافي\n",
        "# ---------------------------------------------------------------------------\n",
        "print(\"\\n--- 2. تجهيز البيانات للتعلم الإشرافي ---\")\n",
        "\n",
        "# التعامل مع القيم المفقودة: العمود 'reviews_per_month' يحتوي على قيم فارغة\n",
        "# سنفترض أن القيم الفارغة تعني عدم وجود تقييمات، لذا سنملأها بالصفر\n",
        "df['reviews_per_month'].fillna(0, inplace=True)\n",
        "\n",
        "# تحديد المتغيرات العددية والفئوية التي سنستخدمها\n",
        "# الميزات العددية\n",
        "numeric_features = ['latitude', 'longitude', 'price', 'minimum_nights', 'number_of_reviews', 'reviews_per_month', 'calculated_host_listings_count', 'availability_365']\n",
        "# الميزات الفئوية\n",
        "categorical_features = ['neighbourhood_group']\n",
        "# المتغير المستهدف\n",
        "target = 'room_type'\n",
        "\n",
        "# فصل الميزات عن المتغير المستهدف\n",
        "X = df[numeric_features + categorical_features]\n",
        "y = df[target]\n",
        "\n",
        "# تقسيم البيانات إلى مجموعة تدريب ومجموعة اختبار\n",
        "# 80% للتدريب و 20% للاختبار\n",
        "X_train, X_test, y_train, y_test = train_test_split(X, y, test_size=0.2, random_state=42, stratify=y)\n",
        "\n",
        "print(f\"حجم بيانات التدريب: {X_train.shape[0]} صف\")\n",
        "print(f\"حجم بيانات الاختبار: {X_test.shape[0]} صف\")\n",
        "\n",
        "# بناء أنابيب المعالجة (Pipelines) لتجهيز البيانات\n",
        "# خطوة مهمة لتوحيد قياس المتغيرات الرقمية وتحويل المتغيرات الفئوية\n",
        "# معالج المتغيرات العددية: يقوم بتوحيد قياسها (Scaling)\n",
        "numeric_transformer = StandardScaler()\n",
        "# معالج المتغيرات الفئوية: يقوم بتحويلها إلى أرقام (One-Hot Encoding)\n",
        "categorical_transformer = OneHotEncoder(handle_unknown='ignore')\n",
        "\n",
        "# دمج المعالجين في معالج واحد باستخدام ColumnTransformer\n",
        "preprocessor = ColumnTransformer(\n",
        "    transformers=[\n",
        "        ('num', numeric_transformer, numeric_features),\n",
        "        ('cat', categorical_transformer, categorical_features)\n",
        "    ])"
      ],
      "metadata": {
        "id": "kEOi8Es0TxFu",
        "colab": {
          "base_uri": "https://localhost:8080/"
        },
        "outputId": "86255ad7-c135-416d-9a51-f02fcb961be6"
      },
      "execution_count": 5,
      "outputs": [
        {
          "output_type": "stream",
          "name": "stdout",
          "text": [
            "\n",
            "--- 2. تجهيز البيانات للتعلم الإشرافي ---\n",
            "حجم بيانات التدريب: 39116 صف\n",
            "حجم بيانات الاختبار: 9779 صف\n"
          ]
        },
        {
          "output_type": "stream",
          "name": "stderr",
          "text": [
            "/tmp/ipython-input-1848669991.py:8: FutureWarning: A value is trying to be set on a copy of a DataFrame or Series through chained assignment using an inplace method.\n",
            "The behavior will change in pandas 3.0. This inplace method will never work because the intermediate object on which we are setting values always behaves as a copy.\n",
            "\n",
            "For example, when doing 'df[col].method(value, inplace=True)', try using 'df.method({col: value}, inplace=True)' or df[col] = df[col].method(value) instead, to perform the operation inplace on the original object.\n",
            "\n",
            "\n",
            "  df['reviews_per_month'].fillna(0, inplace=True)\n"
          ]
        }
      ]
    },
    {
      "cell_type": "code",
      "source": [
        "# ---------------------------------------------------------------------------\n",
        "# الخطوة الثالثة: بناء وتدريب وتقييم نماذج التعلم الإشرافي\n",
        "# ---------------------------------------------------------------------------\n",
        "print(\"\\n--- 3. بناء وتقييم نماذج التعلم الإشرافي ---\")\n",
        "\n",
        "# تعريف النماذج التي سنستخدمها\n",
        "models = {\n",
        "    \"Logistic Regression\": LogisticRegression(max_iter=1000),\n",
        "    \"K-Nearest Neighbors (KNN)\": KNeighborsClassifier(n_neighbors=5),\n",
        "    \"Naive Bayes (Gaussian)\": GaussianNB()\n",
        "}\n",
        "\n",
        "# حلقة لتكرار عملية التدريب والتقييم لكل نموذج\n",
        "for name, model in models.items():\n",
        "    print(f\"\\n--- تقييم نموذج: {name} ---\")\n",
        "\n",
        "    # إنشاء خط عمل (Pipeline) يربط بين معالجة البيانات والنموذج\n",
        "    pipeline = Pipeline(steps=[('preprocessor', preprocessor),\n",
        "                               ('classifier', model)])\n",
        "\n",
        "    # تدريب النموذج\n",
        "    pipeline.fit(X_train, y_train)\n",
        "\n",
        "    # إجراء التنبؤات على بيانات الاختبار\n",
        "    y_pred = pipeline.predict(X_test)\n",
        "\n",
        "    # حساب وعرض مقاييس الأداء\n",
        "    accuracy = accuracy_score(y_test, y_pred)\n",
        "    print(f\"Accuracy: {accuracy:.4f}\")\n",
        "\n",
        "    print(\"\\nClassification Report:\")\n",
        "    print(classification_report(y_test, y_pred))\n",
        "\n",
        "    # عرض مصفوفة الارتباك (Confusion Matrix)\n",
        "    cm = confusion_matrix(y_test, y_pred)\n",
        "    plt.figure(figsize=(8, 6))\n",
        "    sns.heatmap(cm, annot=True, fmt='d', cmap='Blues', xticklabels=pipeline.classes_, yticklabels=pipeline.classes_)\n",
        "    plt.title(f'Confusion Matrix - {name}')\n",
        "    plt.ylabel('Actual')\n",
        "    plt.xlabel('Predicted')\n",
        "    plt.savefig(f'confusion_matrix_{name.replace(\" \", \"_\")}.png')\n",
        "    plt.close() # نغلق الشكل لتجنب عرضه مباشرة هنا\n"
      ],
      "metadata": {
        "id": "fZg4W53KULBM",
        "colab": {
          "base_uri": "https://localhost:8080/"
        },
        "outputId": "e9ffc5d8-224f-4ca9-ac17-f9790e2cb942"
      },
      "execution_count": 6,
      "outputs": [
        {
          "output_type": "stream",
          "name": "stdout",
          "text": [
            "\n",
            "--- 3. بناء وتقييم نماذج التعلم الإشرافي ---\n",
            "\n",
            "--- تقييم نموذج: Logistic Regression ---\n",
            "Accuracy: 0.8008\n",
            "\n",
            "Classification Report:\n"
          ]
        },
        {
          "output_type": "stream",
          "name": "stderr",
          "text": [
            "/usr/local/lib/python3.12/dist-packages/sklearn/metrics/_classification.py:1565: UndefinedMetricWarning: Precision is ill-defined and being set to 0.0 in labels with no predicted samples. Use `zero_division` parameter to control this behavior.\n",
            "  _warn_prf(average, modifier, f\"{metric.capitalize()} is\", len(result))\n",
            "/usr/local/lib/python3.12/dist-packages/sklearn/metrics/_classification.py:1565: UndefinedMetricWarning: Precision is ill-defined and being set to 0.0 in labels with no predicted samples. Use `zero_division` parameter to control this behavior.\n",
            "  _warn_prf(average, modifier, f\"{metric.capitalize()} is\", len(result))\n",
            "/usr/local/lib/python3.12/dist-packages/sklearn/metrics/_classification.py:1565: UndefinedMetricWarning: Precision is ill-defined and being set to 0.0 in labels with no predicted samples. Use `zero_division` parameter to control this behavior.\n",
            "  _warn_prf(average, modifier, f\"{metric.capitalize()} is\", len(result))\n"
          ]
        },
        {
          "output_type": "stream",
          "name": "stdout",
          "text": [
            "                 precision    recall  f1-score   support\n",
            "\n",
            "Entire home/apt       0.86      0.78      0.82      5082\n",
            "   Private room       0.75      0.86      0.80      4465\n",
            "    Shared room       0.00      0.00      0.00       232\n",
            "\n",
            "       accuracy                           0.80      9779\n",
            "      macro avg       0.54      0.55      0.54      9779\n",
            "   weighted avg       0.79      0.80      0.79      9779\n",
            "\n",
            "\n",
            "--- تقييم نموذج: K-Nearest Neighbors (KNN) ---\n",
            "Accuracy: 0.7823\n",
            "\n",
            "Classification Report:\n",
            "                 precision    recall  f1-score   support\n",
            "\n",
            "Entire home/apt       0.81      0.81      0.81      5082\n",
            "   Private room       0.76      0.79      0.77      4465\n",
            "    Shared room       0.70      0.21      0.32       232\n",
            "\n",
            "       accuracy                           0.78      9779\n",
            "      macro avg       0.75      0.60      0.63      9779\n",
            "   weighted avg       0.78      0.78      0.78      9779\n",
            "\n",
            "\n",
            "--- تقييم نموذج: Naive Bayes (Gaussian) ---\n",
            "Accuracy: 0.5480\n",
            "\n",
            "Classification Report:\n",
            "                 precision    recall  f1-score   support\n",
            "\n",
            "Entire home/apt       0.83      0.25      0.38      5082\n",
            "   Private room       0.51      0.92      0.66      4465\n",
            "    Shared room       0.04      0.05      0.05       232\n",
            "\n",
            "       accuracy                           0.55      9779\n",
            "      macro avg       0.46      0.40      0.36      9779\n",
            "   weighted avg       0.67      0.55      0.50      9779\n",
            "\n"
          ]
        }
      ]
    },
    {
      "cell_type": "code",
      "source": [
        "# ---------------------------------------------------------------------------\n",
        "# الخطوة الرابعة: تجهيز البيانات وتطبيق خوارزمية K-Means (التعلم غير الإشرافي)\n",
        "# ---------------------------------------------------------------------------\n",
        "print(\"\\n--- 4. تطبيق خوارزمية K-Means (التعلم غير الإشرافي) ---\")\n",
        "\n",
        "# اختيار الميزات لعملية التجميع: الموقع الجغرافي والسعر\n",
        "# سنقوم بأخذ عينة صغيرة من البيانات لتسريع العملية وتسهيل التصور\n",
        "kmeans_df = df[['latitude', 'longitude', 'price']].copy()\n",
        "kmeans_df_sample = kmeans_df[kmeans_df['price'] < 500].sample(n=10000, random_state=42) # فلترة الأسعار المرتفعة جداً وأخذ عينة\n",
        "\n",
        "# توحيد قياس البيانات (Scaling) لأن K-Means حساسة لمقاييس المتغيرات\n",
        "scaler = StandardScaler()\n",
        "kmeans_scaled = scaler.fit_transform(kmeans_df_sample)\n",
        "\n",
        "# استخدام طريقة الكوع (Elbow Method) لتحديد العدد الأمثل للمجموعات (K)\n",
        "sse = []\n",
        "k_range = range(1, 11)\n",
        "for k in k_range:\n",
        "    kmeans = KMeans(n_clusters=k, random_state=42, n_init=10)\n",
        "    kmeans.fit(kmeans_scaled)\n",
        "    sse.append(kmeans.inertia_)\n",
        "\n",
        "# رسم بياني لطريقة الكوع\n",
        "plt.figure(figsize=(10, 6))\n",
        "plt.plot(k_range, sse, marker='o')\n",
        "plt.title('Elbow Method for Optimal K')\n",
        "plt.xlabel('Number of Clusters (K)')\n",
        "plt.ylabel('Sum of Squared Errors (SSE)')\n",
        "plt.xticks(k_range)\n",
        "plt.savefig('kmeans_elbow_method.png')\n",
        "plt.close()\n",
        "\n",
        "# من الرسم البياني، سنختار العدد الأمثل للمجموعات (عادةً ما يكون عند \"الكوع\")\n",
        "# لنفترض أن K=4 هو الخيار الأفضل\n",
        "optimal_k = 4\n",
        "print(f\"\\nتم اختيار العدد الأمثل للمجموعات K = {optimal_k}\")\n",
        "\n",
        "# تطبيق K-Means باستخدام العدد الأمثل للمجموعات\n",
        "kmeans = KMeans(n_clusters=optimal_k, random_state=42, n_init=10)\n",
        "kmeans.fit(kmeans_scaled)\n",
        "\n",
        "# إضافة labels المجموعات إلى بيانات العينة\n",
        "kmeans_df_sample['cluster'] = kmeans.labels_\n"
      ],
      "metadata": {
        "id": "AERQzNGJUZJc",
        "colab": {
          "base_uri": "https://localhost:8080/"
        },
        "outputId": "9d88768a-3bc8-4e62-a25b-cf6551baf86a"
      },
      "execution_count": 7,
      "outputs": [
        {
          "output_type": "stream",
          "name": "stdout",
          "text": [
            "\n",
            "--- 4. تطبيق خوارزمية K-Means (التعلم غير الإشرافي) ---\n",
            "\n",
            "تم اختيار العدد الأمثل للمجموعات K = 4\n"
          ]
        }
      ]
    },
    {
      "cell_type": "code",
      "source": [
        "# ---------------------------------------------------------------------------\n",
        "# الخطوة الخامسة: تصور نتائج K-Means\n",
        "# ---------------------------------------------------------------------------\n",
        "print(\"\\n--- 5. تصور نتائج K-Means ---\")\n",
        "# رسم المجموعات على خريطة مبعثرة (Scatter Plot)\n",
        "plt.figure(figsize=(12, 10))\n",
        "sns.scatterplot(data=kmeans_df_sample, x='longitude', y='latitude', hue='cluster', palette='viridis', s=50, alpha=0.7)\n",
        "plt.title('NYC Airbnb Listings Clusters (K-Means)')\n",
        "plt.xlabel('Longitude')\n",
        "plt.ylabel('Latitude')\n",
        "plt.legend(title='Cluster')\n",
        "plt.savefig('kmeans_clusters.png')\n",
        "plt.close()\n",
        "\n",
        "print(\"\\n--- انتهى التنفيذ بنجاح! ---\")\n",
        "print(\"تم حفظ جميع الرسوم البيانية كملفات صور في مجلد العمل.\")"
      ],
      "metadata": {
        "id": "SyKC3gS-UcY9",
        "colab": {
          "base_uri": "https://localhost:8080/"
        },
        "outputId": "60a6e3a5-dfdc-4e90-b2fc-1b79d2f7e951"
      },
      "execution_count": 8,
      "outputs": [
        {
          "output_type": "stream",
          "name": "stdout",
          "text": [
            "\n",
            "--- 5. تصور نتائج K-Means ---\n",
            "\n",
            "--- انتهى التنفيذ بنجاح! ---\n",
            "تم حفظ جميع الرسوم البيانية كملفات صور في مجلد العمل.\n"
          ]
        }
      ]
    }
  ]
}